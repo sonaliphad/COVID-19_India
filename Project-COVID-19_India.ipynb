{
 "cells": [
  {
   "cell_type": "code",
   "execution_count": 1,
   "id": "a04b3880",
   "metadata": {},
   "outputs": [],
   "source": [
    "import numpy as np\n",
    "import pandas as pd\n",
    "import matplotlib.pyplot as plt\n",
    "%matplotlib inline\n",
    "import seaborn as sns"
   ]
  },
  {
   "cell_type": "code",
   "execution_count": 2,
   "id": "b96a8a4c",
   "metadata": {},
   "outputs": [
    {
     "data": {
      "text/html": [
       "<div>\n",
       "<style scoped>\n",
       "    .dataframe tbody tr th:only-of-type {\n",
       "        vertical-align: middle;\n",
       "    }\n",
       "\n",
       "    .dataframe tbody tr th {\n",
       "        vertical-align: top;\n",
       "    }\n",
       "\n",
       "    .dataframe thead th {\n",
       "        text-align: right;\n",
       "    }\n",
       "</style>\n",
       "<table border=\"1\" class=\"dataframe\">\n",
       "  <thead>\n",
       "    <tr style=\"text-align: right;\">\n",
       "      <th></th>\n",
       "      <th>Sno</th>\n",
       "      <th>Date</th>\n",
       "      <th>Time</th>\n",
       "      <th>State/UnionTerritory</th>\n",
       "      <th>ConfirmedIndianNational</th>\n",
       "      <th>ConfirmedForeignNational</th>\n",
       "      <th>Cured</th>\n",
       "      <th>Deaths</th>\n",
       "      <th>Confirmed</th>\n",
       "    </tr>\n",
       "  </thead>\n",
       "  <tbody>\n",
       "    <tr>\n",
       "      <th>0</th>\n",
       "      <td>1</td>\n",
       "      <td>2020-01-30</td>\n",
       "      <td>6:00 PM</td>\n",
       "      <td>Kerala</td>\n",
       "      <td>1</td>\n",
       "      <td>0</td>\n",
       "      <td>0</td>\n",
       "      <td>0</td>\n",
       "      <td>1</td>\n",
       "    </tr>\n",
       "    <tr>\n",
       "      <th>1</th>\n",
       "      <td>2</td>\n",
       "      <td>2020-01-31</td>\n",
       "      <td>6:00 PM</td>\n",
       "      <td>Kerala</td>\n",
       "      <td>1</td>\n",
       "      <td>0</td>\n",
       "      <td>0</td>\n",
       "      <td>0</td>\n",
       "      <td>1</td>\n",
       "    </tr>\n",
       "    <tr>\n",
       "      <th>2</th>\n",
       "      <td>3</td>\n",
       "      <td>2020-02-01</td>\n",
       "      <td>6:00 PM</td>\n",
       "      <td>Kerala</td>\n",
       "      <td>2</td>\n",
       "      <td>0</td>\n",
       "      <td>0</td>\n",
       "      <td>0</td>\n",
       "      <td>2</td>\n",
       "    </tr>\n",
       "    <tr>\n",
       "      <th>3</th>\n",
       "      <td>4</td>\n",
       "      <td>2020-02-02</td>\n",
       "      <td>6:00 PM</td>\n",
       "      <td>Kerala</td>\n",
       "      <td>3</td>\n",
       "      <td>0</td>\n",
       "      <td>0</td>\n",
       "      <td>0</td>\n",
       "      <td>3</td>\n",
       "    </tr>\n",
       "    <tr>\n",
       "      <th>4</th>\n",
       "      <td>5</td>\n",
       "      <td>2020-02-03</td>\n",
       "      <td>6:00 PM</td>\n",
       "      <td>Kerala</td>\n",
       "      <td>3</td>\n",
       "      <td>0</td>\n",
       "      <td>0</td>\n",
       "      <td>0</td>\n",
       "      <td>3</td>\n",
       "    </tr>\n",
       "  </tbody>\n",
       "</table>\n",
       "</div>"
      ],
      "text/plain": [
       "   Sno        Date     Time State/UnionTerritory ConfirmedIndianNational  \\\n",
       "0    1  2020-01-30  6:00 PM               Kerala                       1   \n",
       "1    2  2020-01-31  6:00 PM               Kerala                       1   \n",
       "2    3  2020-02-01  6:00 PM               Kerala                       2   \n",
       "3    4  2020-02-02  6:00 PM               Kerala                       3   \n",
       "4    5  2020-02-03  6:00 PM               Kerala                       3   \n",
       "\n",
       "  ConfirmedForeignNational  Cured  Deaths  Confirmed  \n",
       "0                        0      0       0          1  \n",
       "1                        0      0       0          1  \n",
       "2                        0      0       0          2  \n",
       "3                        0      0       0          3  \n",
       "4                        0      0       0          3  "
      ]
     },
     "execution_count": 2,
     "metadata": {},
     "output_type": "execute_result"
    }
   ],
   "source": [
    "df = pd.read_csv(\"C:\\\\Users\\\\sonal\\\\Desktop\\\\Sonali\\\\covid_19_india.csv\")\n",
    "df.head()"
   ]
  },
  {
   "cell_type": "code",
   "execution_count": 3,
   "id": "f286a647",
   "metadata": {},
   "outputs": [
    {
     "data": {
      "text/html": [
       "<div>\n",
       "<style scoped>\n",
       "    .dataframe tbody tr th:only-of-type {\n",
       "        vertical-align: middle;\n",
       "    }\n",
       "\n",
       "    .dataframe tbody tr th {\n",
       "        vertical-align: top;\n",
       "    }\n",
       "\n",
       "    .dataframe thead th {\n",
       "        text-align: right;\n",
       "    }\n",
       "</style>\n",
       "<table border=\"1\" class=\"dataframe\">\n",
       "  <thead>\n",
       "    <tr style=\"text-align: right;\">\n",
       "      <th></th>\n",
       "      <th>Sno</th>\n",
       "      <th>Date</th>\n",
       "      <th>Time</th>\n",
       "      <th>State/UnionTerritory</th>\n",
       "      <th>ConfirmedIndianNational</th>\n",
       "      <th>ConfirmedForeignNational</th>\n",
       "      <th>Cured</th>\n",
       "      <th>Deaths</th>\n",
       "      <th>Confirmed</th>\n",
       "    </tr>\n",
       "  </thead>\n",
       "  <tbody>\n",
       "    <tr>\n",
       "      <th>17781</th>\n",
       "      <td>17782</td>\n",
       "      <td>2021-08-02</td>\n",
       "      <td>8:00 AM</td>\n",
       "      <td>Telangana</td>\n",
       "      <td>-</td>\n",
       "      <td>-</td>\n",
       "      <td>632728</td>\n",
       "      <td>3805</td>\n",
       "      <td>645406</td>\n",
       "    </tr>\n",
       "    <tr>\n",
       "      <th>17782</th>\n",
       "      <td>17783</td>\n",
       "      <td>2021-08-02</td>\n",
       "      <td>8:00 AM</td>\n",
       "      <td>Tripura</td>\n",
       "      <td>-</td>\n",
       "      <td>-</td>\n",
       "      <td>74875</td>\n",
       "      <td>755</td>\n",
       "      <td>78722</td>\n",
       "    </tr>\n",
       "    <tr>\n",
       "      <th>17783</th>\n",
       "      <td>17784</td>\n",
       "      <td>2021-08-02</td>\n",
       "      <td>8:00 AM</td>\n",
       "      <td>Uttarakhand</td>\n",
       "      <td>-</td>\n",
       "      <td>-</td>\n",
       "      <td>334190</td>\n",
       "      <td>7362</td>\n",
       "      <td>342161</td>\n",
       "    </tr>\n",
       "    <tr>\n",
       "      <th>17784</th>\n",
       "      <td>17785</td>\n",
       "      <td>2021-08-02</td>\n",
       "      <td>8:00 AM</td>\n",
       "      <td>Uttar Pradesh</td>\n",
       "      <td>-</td>\n",
       "      <td>-</td>\n",
       "      <td>1685049</td>\n",
       "      <td>22763</td>\n",
       "      <td>1708476</td>\n",
       "    </tr>\n",
       "    <tr>\n",
       "      <th>17785</th>\n",
       "      <td>17786</td>\n",
       "      <td>2021-08-02</td>\n",
       "      <td>8:00 AM</td>\n",
       "      <td>West Bengal</td>\n",
       "      <td>-</td>\n",
       "      <td>-</td>\n",
       "      <td>1499597</td>\n",
       "      <td>18149</td>\n",
       "      <td>1528720</td>\n",
       "    </tr>\n",
       "  </tbody>\n",
       "</table>\n",
       "</div>"
      ],
      "text/plain": [
       "         Sno        Date     Time State/UnionTerritory  \\\n",
       "17781  17782  2021-08-02  8:00 AM            Telangana   \n",
       "17782  17783  2021-08-02  8:00 AM              Tripura   \n",
       "17783  17784  2021-08-02  8:00 AM          Uttarakhand   \n",
       "17784  17785  2021-08-02  8:00 AM        Uttar Pradesh   \n",
       "17785  17786  2021-08-02  8:00 AM          West Bengal   \n",
       "\n",
       "      ConfirmedIndianNational ConfirmedForeignNational    Cured  Deaths  \\\n",
       "17781                       -                        -   632728    3805   \n",
       "17782                       -                        -    74875     755   \n",
       "17783                       -                        -   334190    7362   \n",
       "17784                       -                        -  1685049   22763   \n",
       "17785                       -                        -  1499597   18149   \n",
       "\n",
       "       Confirmed  \n",
       "17781     645406  \n",
       "17782      78722  \n",
       "17783     342161  \n",
       "17784    1708476  \n",
       "17785    1528720  "
      ]
     },
     "execution_count": 3,
     "metadata": {},
     "output_type": "execute_result"
    }
   ],
   "source": [
    "df.tail()"
   ]
  },
  {
   "cell_type": "code",
   "execution_count": 4,
   "id": "35fff066",
   "metadata": {},
   "outputs": [
    {
     "data": {
      "text/plain": [
       "(17786, 9)"
      ]
     },
     "execution_count": 4,
     "metadata": {},
     "output_type": "execute_result"
    }
   ],
   "source": [
    "df.shape"
   ]
  },
  {
   "cell_type": "markdown",
   "id": "bbca6c74",
   "metadata": {},
   "source": [
    "# How many rows and columns are there?"
   ]
  },
  {
   "cell_type": "code",
   "execution_count": 5,
   "id": "cc82059d",
   "metadata": {},
   "outputs": [
    {
     "name": "stdout",
     "output_type": "stream",
     "text": [
      "<class 'pandas.core.frame.DataFrame'>\n",
      "RangeIndex: 17786 entries, 0 to 17785\n",
      "Data columns (total 9 columns):\n",
      " #   Column                    Non-Null Count  Dtype \n",
      "---  ------                    --------------  ----- \n",
      " 0   Sno                       17786 non-null  int64 \n",
      " 1   Date                      17786 non-null  object\n",
      " 2   Time                      17786 non-null  object\n",
      " 3   State/UnionTerritory      17786 non-null  object\n",
      " 4   ConfirmedIndianNational   17786 non-null  object\n",
      " 5   ConfirmedForeignNational  17786 non-null  object\n",
      " 6   Cured                     17786 non-null  int64 \n",
      " 7   Deaths                    17786 non-null  int64 \n",
      " 8   Confirmed                 17786 non-null  int64 \n",
      "dtypes: int64(4), object(5)\n",
      "memory usage: 1.2+ MB\n"
     ]
    }
   ],
   "source": [
    "df.info()"
   ]
  },
  {
   "cell_type": "markdown",
   "id": "50829f4d",
   "metadata": {},
   "source": [
    "# How many null values are there?"
   ]
  },
  {
   "cell_type": "code",
   "execution_count": 6,
   "id": "beb6abe3",
   "metadata": {},
   "outputs": [
    {
     "data": {
      "text/plain": [
       "Sno                         0\n",
       "Date                        0\n",
       "Time                        0\n",
       "State/UnionTerritory        0\n",
       "ConfirmedIndianNational     0\n",
       "ConfirmedForeignNational    0\n",
       "Cured                       0\n",
       "Deaths                      0\n",
       "Confirmed                   0\n",
       "dtype: int64"
      ]
     },
     "execution_count": 6,
     "metadata": {},
     "output_type": "execute_result"
    }
   ],
   "source": [
    "df.isna().sum()"
   ]
  },
  {
   "cell_type": "code",
   "execution_count": 7,
   "id": "cceecef7",
   "metadata": {},
   "outputs": [
    {
     "data": {
      "text/html": [
       "<div>\n",
       "<style scoped>\n",
       "    .dataframe tbody tr th:only-of-type {\n",
       "        vertical-align: middle;\n",
       "    }\n",
       "\n",
       "    .dataframe tbody tr th {\n",
       "        vertical-align: top;\n",
       "    }\n",
       "\n",
       "    .dataframe thead th {\n",
       "        text-align: right;\n",
       "    }\n",
       "</style>\n",
       "<table border=\"1\" class=\"dataframe\">\n",
       "  <thead>\n",
       "    <tr style=\"text-align: right;\">\n",
       "      <th></th>\n",
       "      <th>Sno</th>\n",
       "      <th>Cured</th>\n",
       "      <th>Deaths</th>\n",
       "      <th>Confirmed</th>\n",
       "    </tr>\n",
       "  </thead>\n",
       "  <tbody>\n",
       "    <tr>\n",
       "      <th>count</th>\n",
       "      <td>17786.000000</td>\n",
       "      <td>1.778600e+04</td>\n",
       "      <td>17786.000000</td>\n",
       "      <td>1.778600e+04</td>\n",
       "    </tr>\n",
       "    <tr>\n",
       "      <th>mean</th>\n",
       "      <td>8893.500000</td>\n",
       "      <td>2.679978e+05</td>\n",
       "      <td>3910.019454</td>\n",
       "      <td>2.903789e+05</td>\n",
       "    </tr>\n",
       "    <tr>\n",
       "      <th>std</th>\n",
       "      <td>5134.520279</td>\n",
       "      <td>5.928026e+05</td>\n",
       "      <td>10532.815815</td>\n",
       "      <td>6.347665e+05</td>\n",
       "    </tr>\n",
       "    <tr>\n",
       "      <th>min</th>\n",
       "      <td>1.000000</td>\n",
       "      <td>0.000000e+00</td>\n",
       "      <td>0.000000</td>\n",
       "      <td>0.000000e+00</td>\n",
       "    </tr>\n",
       "    <tr>\n",
       "      <th>25%</th>\n",
       "      <td>4447.250000</td>\n",
       "      <td>3.263500e+03</td>\n",
       "      <td>30.000000</td>\n",
       "      <td>4.209750e+03</td>\n",
       "    </tr>\n",
       "    <tr>\n",
       "      <th>50%</th>\n",
       "      <td>8893.500000</td>\n",
       "      <td>3.293250e+04</td>\n",
       "      <td>556.000000</td>\n",
       "      <td>3.815750e+04</td>\n",
       "    </tr>\n",
       "    <tr>\n",
       "      <th>75%</th>\n",
       "      <td>13339.750000</td>\n",
       "      <td>2.686048e+05</td>\n",
       "      <td>3507.750000</td>\n",
       "      <td>2.921188e+05</td>\n",
       "    </tr>\n",
       "    <tr>\n",
       "      <th>max</th>\n",
       "      <td>17786.000000</td>\n",
       "      <td>6.094896e+06</td>\n",
       "      <td>132948.000000</td>\n",
       "      <td>6.310194e+06</td>\n",
       "    </tr>\n",
       "  </tbody>\n",
       "</table>\n",
       "</div>"
      ],
      "text/plain": [
       "                Sno         Cured         Deaths     Confirmed\n",
       "count  17786.000000  1.778600e+04   17786.000000  1.778600e+04\n",
       "mean    8893.500000  2.679978e+05    3910.019454  2.903789e+05\n",
       "std     5134.520279  5.928026e+05   10532.815815  6.347665e+05\n",
       "min        1.000000  0.000000e+00       0.000000  0.000000e+00\n",
       "25%     4447.250000  3.263500e+03      30.000000  4.209750e+03\n",
       "50%     8893.500000  3.293250e+04     556.000000  3.815750e+04\n",
       "75%    13339.750000  2.686048e+05    3507.750000  2.921188e+05\n",
       "max    17786.000000  6.094896e+06  132948.000000  6.310194e+06"
      ]
     },
     "execution_count": 7,
     "metadata": {},
     "output_type": "execute_result"
    }
   ],
   "source": [
    "df.describe()"
   ]
  },
  {
   "cell_type": "markdown",
   "id": "5caf0c04",
   "metadata": {},
   "source": [
    "# Correlation"
   ]
  },
  {
   "cell_type": "code",
   "execution_count": 8,
   "id": "43192523",
   "metadata": {},
   "outputs": [
    {
     "data": {
      "text/html": [
       "<div>\n",
       "<style scoped>\n",
       "    .dataframe tbody tr th:only-of-type {\n",
       "        vertical-align: middle;\n",
       "    }\n",
       "\n",
       "    .dataframe tbody tr th {\n",
       "        vertical-align: top;\n",
       "    }\n",
       "\n",
       "    .dataframe thead th {\n",
       "        text-align: right;\n",
       "    }\n",
       "</style>\n",
       "<table border=\"1\" class=\"dataframe\">\n",
       "  <thead>\n",
       "    <tr style=\"text-align: right;\">\n",
       "      <th></th>\n",
       "      <th>Sno</th>\n",
       "      <th>Cured</th>\n",
       "      <th>Deaths</th>\n",
       "      <th>Confirmed</th>\n",
       "    </tr>\n",
       "  </thead>\n",
       "  <tbody>\n",
       "    <tr>\n",
       "      <th>Sno</th>\n",
       "      <td>1.000000</td>\n",
       "      <td>0.407618</td>\n",
       "      <td>0.300458</td>\n",
       "      <td>0.402300</td>\n",
       "    </tr>\n",
       "    <tr>\n",
       "      <th>Cured</th>\n",
       "      <td>0.407618</td>\n",
       "      <td>1.000000</td>\n",
       "      <td>0.917416</td>\n",
       "      <td>0.997631</td>\n",
       "    </tr>\n",
       "    <tr>\n",
       "      <th>Deaths</th>\n",
       "      <td>0.300458</td>\n",
       "      <td>0.917416</td>\n",
       "      <td>1.000000</td>\n",
       "      <td>0.918388</td>\n",
       "    </tr>\n",
       "    <tr>\n",
       "      <th>Confirmed</th>\n",
       "      <td>0.402300</td>\n",
       "      <td>0.997631</td>\n",
       "      <td>0.918388</td>\n",
       "      <td>1.000000</td>\n",
       "    </tr>\n",
       "  </tbody>\n",
       "</table>\n",
       "</div>"
      ],
      "text/plain": [
       "                Sno     Cured    Deaths  Confirmed\n",
       "Sno        1.000000  0.407618  0.300458   0.402300\n",
       "Cured      0.407618  1.000000  0.917416   0.997631\n",
       "Deaths     0.300458  0.917416  1.000000   0.918388\n",
       "Confirmed  0.402300  0.997631  0.918388   1.000000"
      ]
     },
     "execution_count": 8,
     "metadata": {},
     "output_type": "execute_result"
    }
   ],
   "source": [
    "df.corr()"
   ]
  },
  {
   "cell_type": "code",
   "execution_count": 9,
   "id": "f715168c",
   "metadata": {},
   "outputs": [
    {
     "data": {
      "image/png": "[encoded data removed]",
      "text/plain": [
       "<Figure size 504x504 with 1 Axes>"
      ]
     },
     "metadata": {
      "needs_background": "light"
     },
     "output_type": "display_data"
    }
   ],
   "source": [
    "plt.figure(figsize=(7,7))\n",
    "plt.scatter(x=df[\"Deaths\"],y=df[\"Confirmed\"])\n",
    "plt.title(\"Deaths vs Confirmed Scatter plot\")\n",
    "plt.ylabel(\"Confirmed\")\n",
    "plt.xlabel(\"Deaths\")\n",
    "plt.show()"
   ]
  },
  {
   "cell_type": "code",
   "execution_count": 10,
   "id": "f58f620b",
   "metadata": {},
   "outputs": [],
   "source": [
    "corr=df.corr()"
   ]
  },
  {
   "cell_type": "markdown",
   "id": "b730f314",
   "metadata": {},
   "source": [
    "# Heatmap of Data"
   ]
  },
  {
   "cell_type": "code",
   "execution_count": 11,
   "id": "1318b6db",
   "metadata": {},
   "outputs": [
    {
     "data": {
      "image/png": "[encoded data removed]",
      "text/plain": [
       "<Figure size 432x288 with 2 Axes>"
      ]
     },
     "metadata": {
      "needs_background": "light"
     },
     "output_type": "display_data"
    }
   ],
   "source": [
    "sns.heatmap(df.corr(),annot=True,cmap=\"Blues\")\n",
    "plt.show()"
   ]
  },
  {
   "cell_type": "markdown",
   "id": "98f7b615",
   "metadata": {},
   "source": [
    "# Records till 1st June 2021?"
   ]
  },
  {
   "cell_type": "code",
   "execution_count": 12,
   "id": "397ecf33",
   "metadata": {},
   "outputs": [
    {
     "data": {
      "text/html": [
       "<div>\n",
       "<style scoped>\n",
       "    .dataframe tbody tr th:only-of-type {\n",
       "        vertical-align: middle;\n",
       "    }\n",
       "\n",
       "    .dataframe tbody tr th {\n",
       "        vertical-align: top;\n",
       "    }\n",
       "\n",
       "    .dataframe thead th {\n",
       "        text-align: right;\n",
       "    }\n",
       "</style>\n",
       "<table border=\"1\" class=\"dataframe\">\n",
       "  <thead>\n",
       "    <tr style=\"text-align: right;\">\n",
       "      <th></th>\n",
       "      <th>Sno</th>\n",
       "      <th>Date</th>\n",
       "      <th>Time</th>\n",
       "      <th>State/UnionTerritory</th>\n",
       "      <th>ConfirmedIndianNational</th>\n",
       "      <th>ConfirmedForeignNational</th>\n",
       "      <th>Cured</th>\n",
       "      <th>Deaths</th>\n",
       "      <th>Confirmed</th>\n",
       "    </tr>\n",
       "  </thead>\n",
       "  <tbody>\n",
       "    <tr>\n",
       "      <th>15518</th>\n",
       "      <td>15519</td>\n",
       "      <td>2021-06-01</td>\n",
       "      <td>8:00 AM</td>\n",
       "      <td>Andaman and Nicobar Islands</td>\n",
       "      <td>-</td>\n",
       "      <td>-</td>\n",
       "      <td>6719</td>\n",
       "      <td>115</td>\n",
       "      <td>7005</td>\n",
       "    </tr>\n",
       "    <tr>\n",
       "      <th>15519</th>\n",
       "      <td>15520</td>\n",
       "      <td>2021-06-01</td>\n",
       "      <td>8:00 AM</td>\n",
       "      <td>Andhra Pradesh</td>\n",
       "      <td>-</td>\n",
       "      <td>-</td>\n",
       "      <td>1528360</td>\n",
       "      <td>10930</td>\n",
       "      <td>1693085</td>\n",
       "    </tr>\n",
       "    <tr>\n",
       "      <th>15520</th>\n",
       "      <td>15521</td>\n",
       "      <td>2021-06-01</td>\n",
       "      <td>8:00 AM</td>\n",
       "      <td>Arunachal Pradesh</td>\n",
       "      <td>-</td>\n",
       "      <td>-</td>\n",
       "      <td>23402</td>\n",
       "      <td>115</td>\n",
       "      <td>27272</td>\n",
       "    </tr>\n",
       "    <tr>\n",
       "      <th>15521</th>\n",
       "      <td>15522</td>\n",
       "      <td>2021-06-01</td>\n",
       "      <td>8:00 AM</td>\n",
       "      <td>Assam</td>\n",
       "      <td>-</td>\n",
       "      <td>-</td>\n",
       "      <td>354810</td>\n",
       "      <td>3365</td>\n",
       "      <td>411216</td>\n",
       "    </tr>\n",
       "    <tr>\n",
       "      <th>15522</th>\n",
       "      <td>15523</td>\n",
       "      <td>2021-06-01</td>\n",
       "      <td>8:00 AM</td>\n",
       "      <td>Bihar</td>\n",
       "      <td>-</td>\n",
       "      <td>-</td>\n",
       "      <td>685362</td>\n",
       "      <td>5163</td>\n",
       "      <td>706761</td>\n",
       "    </tr>\n",
       "  </tbody>\n",
       "</table>\n",
       "</div>"
      ],
      "text/plain": [
       "         Sno        Date     Time         State/UnionTerritory  \\\n",
       "15518  15519  2021-06-01  8:00 AM  Andaman and Nicobar Islands   \n",
       "15519  15520  2021-06-01  8:00 AM               Andhra Pradesh   \n",
       "15520  15521  2021-06-01  8:00 AM            Arunachal Pradesh   \n",
       "15521  15522  2021-06-01  8:00 AM                        Assam   \n",
       "15522  15523  2021-06-01  8:00 AM                        Bihar   \n",
       "\n",
       "      ConfirmedIndianNational ConfirmedForeignNational    Cured  Deaths  \\\n",
       "15518                       -                        -     6719     115   \n",
       "15519                       -                        -  1528360   10930   \n",
       "15520                       -                        -    23402     115   \n",
       "15521                       -                        -   354810    3365   \n",
       "15522                       -                        -   685362    5163   \n",
       "\n",
       "       Confirmed  \n",
       "15518       7005  \n",
       "15519    1693085  \n",
       "15520      27272  \n",
       "15521     411216  \n",
       "15522     706761  "
      ]
     },
     "execution_count": 12,
     "metadata": {},
     "output_type": "execute_result"
    }
   ],
   "source": [
    "df_latest=df[df['Date']==\"2021-06-01\"]\n",
    "df_latest.head()"
   ]
  },
  {
   "cell_type": "markdown",
   "id": "bfe0e9e9",
   "metadata": {},
   "source": [
    "# Total how many confirmed cases are there?"
   ]
  },
  {
   "cell_type": "code",
   "execution_count": 13,
   "id": "c6fb6114",
   "metadata": {},
   "outputs": [
    {
     "data": {
      "text/plain": [
       "5164679714"
      ]
     },
     "execution_count": 13,
     "metadata": {},
     "output_type": "execute_result"
    }
   ],
   "source": [
    "df['Confirmed'].sum()"
   ]
  },
  {
   "cell_type": "markdown",
   "id": "c0cfc8c0",
   "metadata": {},
   "source": [
    "# How many unique dates are there?"
   ]
  },
  {
   "cell_type": "code",
   "execution_count": 14,
   "id": "2775c4d2",
   "metadata": {},
   "outputs": [
    {
     "data": {
      "text/plain": [
       "551"
      ]
     },
     "execution_count": 14,
     "metadata": {},
     "output_type": "execute_result"
    }
   ],
   "source": [
    "df['Date'].nunique()"
   ]
  },
  {
   "cell_type": "markdown",
   "id": "cc5b0a16",
   "metadata": {},
   "source": [
    "# Datewise cured cases?"
   ]
  },
  {
   "cell_type": "code",
   "execution_count": 15,
   "id": "3135c656",
   "metadata": {},
   "outputs": [
    {
     "data": {
      "text/plain": [
       "Date\n",
       "2020-01-30           0\n",
       "2020-01-31           0\n",
       "2020-02-01           0\n",
       "2020-02-02           0\n",
       "2020-02-03           0\n",
       "                ...   \n",
       "2021-07-29    30701612\n",
       "2021-07-30    30743972\n",
       "2021-07-31    30781263\n",
       "2021-08-01    30820521\n",
       "2021-08-02    30857467\n",
       "Name: Cured, Length: 551, dtype: int64"
      ]
     },
     "execution_count": 15,
     "metadata": {},
     "output_type": "execute_result"
    }
   ],
   "source": [
    "df.groupby(\"Date\")[\"Cured\"].sum()"
   ]
  },
  {
   "cell_type": "markdown",
   "id": "f1ef89b5",
   "metadata": {},
   "source": [
    "# What are the lowest no deaths?"
   ]
  },
  {
   "cell_type": "code",
   "execution_count": 16,
   "id": "63666968",
   "metadata": {},
   "outputs": [
    {
     "data": {
      "text/plain": [
       "0"
      ]
     },
     "execution_count": 16,
     "metadata": {},
     "output_type": "execute_result"
    }
   ],
   "source": [
    "df['Deaths'].min()"
   ]
  },
  {
   "cell_type": "markdown",
   "id": "bca54b96",
   "metadata": {},
   "source": [
    "# Total how many deaths are there?"
   ]
  },
  {
   "cell_type": "code",
   "execution_count": 17,
   "id": "49acf41d",
   "metadata": {},
   "outputs": [
    {
     "data": {
      "text/plain": [
       "69543606"
      ]
     },
     "execution_count": 17,
     "metadata": {},
     "output_type": "execute_result"
    }
   ],
   "source": [
    "df['Deaths'].sum()"
   ]
  },
  {
   "cell_type": "code",
   "execution_count": 18,
   "id": "d83b2424",
   "metadata": {},
   "outputs": [
    {
     "data": {
      "text/plain": [
       "<AxesSubplot:>"
      ]
     },
     "execution_count": 18,
     "metadata": {},
     "output_type": "execute_result"
    },
    {
     "data": {
      "image/png": "[encoded data removed]",
      "text/plain": [
       "<Figure size 432x288 with 1 Axes>"
      ]
     },
     "metadata": {
      "needs_background": "light"
     },
     "output_type": "display_data"
    }
   ],
   "source": [
    "df.corr()[\"Confirmed\"].sort_values().plot(kind=\"bar\")"
   ]
  },
  {
   "cell_type": "markdown",
   "id": "a739d82b",
   "metadata": {},
   "source": [
    "# Conclusion-\n",
    "\n",
    "From this dataset we can conclude that the total no of confirmed cases are more than the deaths cases in india."
   ]
  }
 ],
 "metadata": {
  "kernelspec": {
   "display_name": "Python 3",
   "language": "python",
   "name": "python3"
  },
  "language_info": {
   "codemirror_mode": {
    "name": "ipython",
    "version": 3
   },
   "file_extension": ".py",
   "mimetype": "text/x-python",
   "name": "python",
   "nbconvert_exporter": "python",
   "pygments_lexer": "ipython3",
   "version": "3.8.8"
  }
 },
 "nbformat": 4,
 "nbformat_minor": 5
}
